{
 "cells": [
  {
   "cell_type": "markdown",
   "metadata": {},
   "source": [
    "# Reach the hospital\n",
    "\n",
    "Run the code blocks below by placing your cursor inside each block and pressing <Ctrl+enter>."
   ]
  },
  {
   "cell_type": "code",
   "execution_count": 22,
   "metadata": {},
   "outputs": [],
   "source": [
    "# !pip install pygame\n",
    "# !pip install numpy"
   ]
  },
  {
   "cell_type": "code",
   "execution_count": 1,
   "metadata": {},
   "outputs": [
    {
     "name": "stdout",
     "output_type": "stream",
     "text": [
      "pygame 2.0.1 (SDL 2.0.14, Python 3.7.4)\n",
      "Hello from the pygame community. https://www.pygame.org/contribute.html\n"
     ]
    }
   ],
   "source": [
    "# import modules\n",
    "import pygame\n",
    "import numpy as np\n",
    "from pygame import draw"
   ]
  },
  {
   "cell_type": "markdown",
   "metadata": {},
   "source": [
    "## Define Class objects\n",
    "\n",
    "### Player"
   ]
  },
  {
   "cell_type": "code",
   "execution_count": 12,
   "metadata": {},
   "outputs": [],
   "source": [
    "class Player(pygame.sprite.Sprite):\n",
    "    def __init__(self, X, Y, scale = None, speed = 10):\n",
    "        pygame.sprite.Sprite.__init__(self)\n",
    "        self.X = X\n",
    "        self.Y = Y\n",
    "        self.speed = speed\n",
    "        self.flip = False\n",
    "        self.playerIcon = pygame.image.load('./images/player.png')\n",
    "        self.rect = self.playerIcon.get_rect()\n",
    "        self.rect.center = (playerX, playerY)\n",
    "        self.steal = 0\n",
    "\n",
    "    def move(self, left, right, up, down):\n",
    "        dx = 0\n",
    "        dy = 0\n",
    "        if left:\n",
    "            dx = -self.speed\n",
    "            self.flip = True\n",
    "        if right:\n",
    "            dx = self.speed\n",
    "            self.flip = False\n",
    "        if up:\n",
    "            dy = -self.speed\n",
    "            self.flip = False\n",
    "        if down:\n",
    "            dy = self.speed\n",
    "            self.flip = False\n",
    "\n",
    "        # update rectangle position\n",
    "        self.rect.x += dx\n",
    "        self.rect.x = 0 if self.rect.x <0 else self.rect.x\n",
    "        self.rect.x = 650 if self.rect.x >650 else self.rect.x\n",
    "\n",
    "        self.rect.y += dy\n",
    "        self.rect.y = 0 if self.rect.y <0 else self.rect.y\n",
    "        self.rect.y = 538 if self.rect.y >538 else self.rect.y\n",
    "\n",
    "    def draw(self):\n",
    "        screen.blit(pygame.transform.flip(self.playerIcon, self.flip, False), self.rect)"
   ]
  },
  {
   "cell_type": "markdown",
   "metadata": {},
   "source": [
    "### Element\n",
    "Graphics to be displayed in game window"
   ]
  },
  {
   "cell_type": "code",
   "execution_count": 3,
   "metadata": {},
   "outputs": [],
   "source": [
    "class Element:\n",
    "    def __init__(self,icon_path):\n",
    "        self.icon = pygame.image.load(icon_path)\n",
    "    \n",
    "    def draw(self, x, y):\n",
    "        element_rect = self.icon.get_rect()\n",
    "        element_rect.center = (x, y)\n",
    "        screen.blit(self.icon, (x, y))"
   ]
  },
  {
   "cell_type": "markdown",
   "metadata": {},
   "source": [
    "### Details\n",
    "Text to be displayed in game window"
   ]
  },
  {
   "cell_type": "code",
   "execution_count": 4,
   "metadata": {},
   "outputs": [],
   "source": [
    "class Details:\n",
    "    def __init__(self, text):\n",
    "        self.text = text\n",
    "        \n",
    "    def write(self, loc, color = (0, 0, 255)):\n",
    "        font = pygame.font.Font('freesansbold.ttf', 16)\n",
    "        screen.blit(font.render(self.text, True, color), loc)"
   ]
  },
  {
   "cell_type": "markdown",
   "metadata": {},
   "source": [
    "## Define functions"
   ]
  },
  {
   "cell_type": "code",
   "execution_count": 5,
   "metadata": {},
   "outputs": [],
   "source": [
    "def addGameRect(screen, width, height):\n",
    "    \"\"\"Draw rectangle around the gaming part of the window\"\"\"\n",
    "    pygame.draw.rect(screen, (0, 0, 0), pygame.Rect(0, 0, width, height),  2)\n",
    "    \n",
    "def reachedDanger(player_pos_x, player_pos_y):\n",
    "    \"\"\"Check if player has reached \"\"\"\n",
    "    if dangerX - player_pos_x < 40 and dangerY - player_pos_y < 40:\n",
    "        return True\n",
    "    return False  \n",
    "\n",
    "def reachedGoal(player_pos_x, player_pos_y):\n",
    "    if goalX - player_pos_x < 40 and goalY - player_pos_y < 40:\n",
    "        return True\n",
    "    return False"
   ]
  },
  {
   "cell_type": "markdown",
   "metadata": {},
   "source": [
    "## Initialize some variables"
   ]
  },
  {
   "cell_type": "code",
   "execution_count": 6,
   "metadata": {},
   "outputs": [
    {
     "name": "stdout",
     "output_type": "stream",
     "text": [
      "Prob_risk_avoidance: 0.351412\n",
      "prob_profit_seeking: 0.485853\n",
      "learning_rate: 0.258713\n"
     ]
    }
   ],
   "source": [
    "prob_risk_avoidance = np.random.random()\n",
    "prob_profit_seeking = np.random.random()\n",
    "learning_rate = np.random.random()\n",
    "print('Prob_risk_avoidance: %f\\nprob_profit_seeking: %f\\nlearning_rate: %f' % (prob_risk_avoidance, prob_profit_seeking, learning_rate))"
   ]
  },
  {
   "cell_type": "code",
   "execution_count": 8,
   "metadata": {},
   "outputs": [
    {
     "name": "stdout",
     "output_type": "stream",
     "text": [
      "Risk: 0.70\n",
      "Cost: 0.88\n",
      "Reward: 0.29\n"
     ]
    }
   ],
   "source": [
    "risk_num= np.random.random() # risk value\n",
    "risk_string = 'Risk: ' + format(risk_num, '.2f')\n",
    "risk = Details(risk_string) # define class instance to be displayed on screen\n",
    "\n",
    "# cost\n",
    "cost_num = np.random.random()\n",
    "cost_string = 'Cost: ' + format(cost_num, '.2f')\n",
    "cost = Details(cost_string)\n",
    "\n",
    "#reward\n",
    "reward_num = np.random.random()\n",
    "reward_string = 'Reward: ' + format(reward_num, '.2f')\n",
    "reward = Details(reward_string)\n",
    "\n",
    "print('%s\\n%s\\n%s' % (risk_string, cost_string, reward_string))"
   ]
  },
  {
   "cell_type": "code",
   "execution_count": 9,
   "metadata": {},
   "outputs": [
    {
     "name": "stdout",
     "output_type": "stream",
     "text": [
      "R: 0.247197\n",
      "P: -0.284050\n",
      "Net: -0.531246\n",
      "rand: 0.066159\n"
     ]
    }
   ],
   "source": [
    "R = prob_risk_avoidance * risk_num\n",
    "P = prob_profit_seeking * (reward_num-cost_num)\n",
    "net = P-R \n",
    "rand = np.random.random()\n",
    "\n",
    "print('R: %f\\nP: %f\\nNet: %f\\nrand: %f' % (R, P, net, rand))"
   ]
  },
  {
   "cell_type": "code",
   "execution_count": 14,
   "metadata": {},
   "outputs": [],
   "source": [
    "# initialize player\n",
    "playerX = 0\n",
    "playerY = 35\n",
    "player = Player(playerX, playerY)\n",
    "move_left = False\n",
    "move_right = False\n",
    "move_up = False\n",
    "move_down = False"
   ]
  },
  {
   "cell_type": "code",
   "execution_count": 15,
   "metadata": {},
   "outputs": [],
   "source": [
    "# initialize elements\n",
    "icecream = Element('./images/ice-cream-cart.png')\n",
    "icecreamX = 185\n",
    "icecreamY = 100\n",
    "\n",
    "dog = Element('./images/dog.png')\n",
    "dogX = 360\n",
    "dogY = 280\n",
    "\n",
    "danger = Element('./images/danger.png')\n",
    "dangerX = 185\n",
    "dangerY = 400"
   ]
  },
  {
   "cell_type": "code",
   "execution_count": 16,
   "metadata": {},
   "outputs": [],
   "source": [
    "#goal\n",
    "size = width, height = 900, 600 # window details\n",
    "goalX = width-266\n",
    "goalY = height-66\n",
    "goal = Element('./images/goal.png')"
   ]
  },
  {
   "cell_type": "code",
   "execution_count": 17,
   "metadata": {},
   "outputs": [
    {
     "data": {
      "text/plain": [
       "(7, 0)"
      ]
     },
     "execution_count": 17,
     "metadata": {},
     "output_type": "execute_result"
    }
   ],
   "source": [
    "# initialize game\n",
    "pygame.init()"
   ]
  },
  {
   "cell_type": "markdown",
   "metadata": {},
   "source": [
    "## Time to play!\n",
    "Running the following code will launch an interactive game window. \\\n",
    "Use the arrow keys on your keyboard to navigate in the game and make your way to the hospital. Good luck!"
   ]
  },
  {
   "cell_type": "code",
   "execution_count": 18,
   "metadata": {},
   "outputs": [],
   "source": [
    "# initialize window\n",
    "size = width, height = 900, 600\n",
    "screen = pygame.display.set_mode(size)\n",
    "pygame.display.set_caption('Reach the hospital')\n",
    "# bg = pygame.image.load(\"./images/grid-bg.png\")\n",
    "clock = pygame.time.Clock()\n",
    "FPS = 60\n",
    "\n",
    "# Game loop\n",
    "running = True\n",
    "while running:\n",
    "    screen.fill((255, 255, 255))\n",
    "#     screen.blit(bg, (0, 0))\n",
    "    player.draw()\n",
    "    addGameRect(screen, width-200, height)\n",
    "    icecream.draw(icecreamX, icecreamY)\n",
    "    dog.draw(dogX, dogY)\n",
    "    goal.draw(goalX, goalY)\n",
    "    danger.draw(dangerX, dangerY)\n",
    "\n",
    "    # add risk cost reward details\n",
    "    danger.draw(750, 10) # draw danger icon outside game window\n",
    "    risk.write(loc = (750, 70), color = (255, 0, 0))\n",
    "    cost.write(loc = (750, 85), color = (255, 0, 0))\n",
    "    reward.write(loc = (750, 100), color = (255, 0, 0))\n",
    "\n",
    "    player.move(move_left, move_right, move_up, move_down)\n",
    "\n",
    "\n",
    "    for event in pygame.event.get():\n",
    "        if event.type == pygame.QUIT: # quit button pressed\n",
    "            running = False\n",
    "\n",
    "        # keyboard presses\n",
    "        if event.type == pygame.KEYDOWN:\n",
    "            if event.key == pygame.K_LEFT:\n",
    "                move_left = True\n",
    "            if event.key == pygame.K_RIGHT:\n",
    "                move_right = True\n",
    "            if event.key == pygame.K_UP:\n",
    "                move_up = True\n",
    "            if event.key == pygame.K_DOWN:\n",
    "                move_down = True\n",
    "            if event.key == pygame.K_ESCAPE: # quit game\n",
    "                running = False\n",
    "\n",
    "        if event.type == pygame.KEYUP:\n",
    "            if event.key == pygame.K_LEFT:\n",
    "                move_left = False\n",
    "            if event.key == pygame.K_RIGHT:\n",
    "                move_right = False\n",
    "            if event.key == pygame.K_UP:\n",
    "                move_up = False\n",
    "            if event.key == pygame.K_DOWN:\n",
    "                move_down = False                \n",
    "\n",
    "    if reachedGoal(player.rect.x, player.rect.y):\n",
    "        over_font = pygame.font.Font('freesansbold.ttf', 28)\n",
    "        game_over_text = over_font.render('Game over!', True, (0, 0, 0))\n",
    "        screen.blit(game_over_text, (300, 150))\n",
    "\n",
    "    if reachedDanger(player.rect.x, player.rect.y):\n",
    "        if rand < net:\n",
    "            print('Stealing')\n",
    "            string = format(net, '.2f') + ' ' + format(rand, '.2f') + ' ' + str(player.steal)\n",
    "            player.steal = 1\n",
    "        else:\n",
    "            string = 'Skip'\n",
    "            \n",
    "        font = pygame.font.Font('freesansbold.ttf', 24)\n",
    "        text = font.render(string, True, (0, 0, 0))\n",
    "        screen.blit(text, (300, 150))\n",
    "\n",
    "\n",
    "    clock.tick(FPS)\n",
    "    pygame.display.update()"
   ]
  },
  {
   "cell_type": "markdown",
   "metadata": {},
   "source": [
    "# Changes\n",
    "1. ~Optimize code~\n",
    "2. Make Elements appear in rect. Add collisions\n",
    "3. Make the whole window bigger so that things can be displayed easily\n",
    "4. ~Remove start window~\n",
    "5. Why is agent-danger collision always resulting in skip?"
   ]
  }
 ],
 "metadata": {
  "kernelspec": {
   "display_name": "Python 3",
   "language": "python",
   "name": "python3"
  },
  "language_info": {
   "codemirror_mode": {
    "name": "ipython",
    "version": 3
   },
   "file_extension": ".py",
   "mimetype": "text/x-python",
   "name": "python",
   "nbconvert_exporter": "python",
   "pygments_lexer": "ipython3",
   "version": "3.7.4"
  }
 },
 "nbformat": 4,
 "nbformat_minor": 4
}
