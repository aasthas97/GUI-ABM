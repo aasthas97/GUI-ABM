{
 "cells": [
  {
   "cell_type": "markdown",
   "metadata": {},
   "source": [
    "# Reach the hospital\n",
    "\n",
    "Run the code blocks below by placing your cursor inside each block and pressing <Ctrl+enter>."
   ]
  },
  {
   "cell_type": "code",
   "execution_count": 44,
   "metadata": {},
   "outputs": [],
   "source": [
    "# !pip install pygame\n",
    "# !pip install numpy"
   ]
  },
  {
   "cell_type": "markdown",
   "metadata": {},
   "source": [
    "# 24th May\n",
    "## Updates\n",
    "1. Removed start menu\n",
    "2. Removed grid background for now -- add in the end\n",
    "3. Organized code\n",
    "\n",
    "## Issues\n",
    "When player reaches danger, things just keep updating\n",
    "\n",
    "# 26th May\n",
    "## Updates\n",
    "1. Added sliders for rand1 and rand2"
   ]
  },
  {
   "cell_type": "code",
   "execution_count": 22,
   "metadata": {},
   "outputs": [],
   "source": [
    "# import modules\n",
    "import pygame\n",
    "import numpy as np\n",
    "from pygame import draw\n",
    "import ipywidgets as widgets"
   ]
  },
  {
   "cell_type": "markdown",
   "metadata": {},
   "source": [
    "## Define Class objects\n",
    "\n",
    "### Player"
   ]
  },
  {
   "cell_type": "code",
   "execution_count": 23,
   "metadata": {},
   "outputs": [],
   "source": [
    "class Player(pygame.sprite.Sprite):\n",
    "    def __init__(self, X, Y, scale = None, speed = 10):\n",
    "        pygame.sprite.Sprite.__init__(self)\n",
    "        self.X = X\n",
    "        self.Y = Y\n",
    "        self.speed = speed\n",
    "        self.flip = False\n",
    "        self.playerIcon = pygame.image.load('./images/player.png')\n",
    "        self.rect = self.playerIcon.get_rect()\n",
    "        self.rect.center = (playerX+32, playerY+32)\n",
    "        self.steal = 0\n",
    "\n",
    "    def move(self, left, right, up, down):\n",
    "        dx = 0\n",
    "        dy = 0\n",
    "        if left:\n",
    "            dx = -self.speed\n",
    "            self.flip = True\n",
    "        if right:\n",
    "            dx = self.speed\n",
    "            self.flip = False\n",
    "        if up:\n",
    "            dy = -self.speed\n",
    "            self.flip = False\n",
    "        if down:\n",
    "            dy = self.speed\n",
    "            self.flip = False\n",
    "\n",
    "        # update rectangle position\n",
    "        self.rect.x += dx\n",
    "        self.rect.y += dy\n",
    "        \n",
    "        # define x-axis boundaries\n",
    "        self.rect.x = 0 if self.rect.x <0 else self.rect.x\n",
    "        self.rect.x = 650 if self.rect.x >650 else self.rect.x\n",
    "\n",
    "        \n",
    "        # define y-axis boundaries\n",
    "        self.rect.y = 0 if self.rect.y <0 else self.rect.y\n",
    "        self.rect.y = 538 if self.rect.y >538 else self.rect.y\n",
    "        \n",
    "    def collide(self, item):\n",
    "        collision_tolerance = 10\n",
    "        if abs(self.rect.bottom - item.rect.top) <= collision_tolerance: # top collision\n",
    "            self.rect.y -= self.speed\n",
    "        if abs(self.rect.top - item.rect.bottom) <= collision_tolerance: # bottom collision\n",
    "            self.rect.y += self.speed\n",
    "        if abs(self.rect.left - item.rect.right) <= collision_tolerance: # right collision\n",
    "            self.rect.x += self.speed\n",
    "        if abs(self.rect.right - item.rect.left) <= collision_tolerance: # left collision\n",
    "            self.rect.x -= self.speed\n",
    "\n",
    "    def draw(self):\n",
    "        screen.blit(pygame.transform.flip(self.playerIcon, self.flip, False), self.rect)"
   ]
  },
  {
   "cell_type": "markdown",
   "metadata": {},
   "source": [
    "### Graphics\n",
    "Graphics to be displayed in game window"
   ]
  },
  {
   "cell_type": "code",
   "execution_count": 24,
   "metadata": {},
   "outputs": [],
   "source": [
    "class Graphics:\n",
    "    def __init__(self,icon_path):\n",
    "        self.icon = pygame.image.load(icon_path)\n",
    "        self.rect = self.icon.get_rect()\n",
    "    \n",
    "    def draw(self, x, y):\n",
    "        self.rect.center = (x+32, y+32)\n",
    "        screen.blit(self.icon, (x, y))"
   ]
  },
  {
   "cell_type": "markdown",
   "metadata": {},
   "source": [
    "### Details\n",
    "Text to be displayed in game window"
   ]
  },
  {
   "cell_type": "code",
   "execution_count": 25,
   "metadata": {},
   "outputs": [],
   "source": [
    "class Text:\n",
    "    def __init__(self, text):\n",
    "        self.text = text\n",
    "        \n",
    "    def write(self, loc, color = (0, 0, 255)):\n",
    "        font = pygame.font.Font('freesansbold.ttf', 16)\n",
    "        screen.blit(font.render(self.text, True, color), loc)"
   ]
  },
  {
   "cell_type": "markdown",
   "metadata": {},
   "source": [
    "## Define functions"
   ]
  },
  {
   "cell_type": "code",
   "execution_count": 26,
   "metadata": {},
   "outputs": [],
   "source": [
    "def addGameRect(screen, width, height):\n",
    "    \"\"\"Draw rectangle around the gaming part of the window\"\"\"\n",
    "    pygame.draw.rect(screen, (0, 0, 0), pygame.Rect(0, 0, width, height),  2)\n",
    "    \n",
    "def isCollide(item1, item2):\n",
    "    r1 = item1.rect\n",
    "    r2 = item2.rect\n",
    "    return r1.colliderect(r2)"
   ]
  },
  {
   "cell_type": "markdown",
   "metadata": {},
   "source": [
    "## Initialize some variables"
   ]
  },
  {
   "cell_type": "code",
   "execution_count": 27,
   "metadata": {},
   "outputs": [
    {
     "name": "stdout",
     "output_type": "stream",
     "text": [
      "0.6468105138719104 0.7493767136827332 0.4518909597778549\n"
     ]
    }
   ],
   "source": [
    "prob_risk_avoidance = np.random.random()\n",
    "prob_profit_seeking = np.random.random()\n",
    "learning_rate = np.random.random()\n",
    "\n",
    "print(prob_risk_avoidance, prob_profit_seeking, learning_rate)\n",
    "probabilities = [Text('Risk avoidance: %.2f' % prob_risk_avoidance), Text('Profit-seeking: %.2f' % prob_profit_seeking), Text('Learning Rate: %.2f' % learning_rate)]"
   ]
  },
  {
   "cell_type": "code",
   "execution_count": 28,
   "metadata": {},
   "outputs": [
    {
     "name": "stdout",
     "output_type": "stream",
     "text": [
      "Risk: 0.035608\n",
      "Cost: 0.375222\n",
      "Reward: 0.836805\n"
     ]
    }
   ],
   "source": [
    "risk= np.random.random() # risk value\n",
    "cost = np.random.random()\n",
    "reward = np.random.random()\n",
    "\n",
    "print('Risk: %f\\nCost: %f\\nReward: %f' % (risk, cost, reward))\n",
    "rrc = [Text('Risk: %.2f' % risk), Text('Cost: %.2f' % cost), Text('Reward: %.2f' % reward)]"
   ]
  },
  {
   "cell_type": "code",
   "execution_count": 29,
   "metadata": {},
   "outputs": [],
   "source": [
    "# initialize player\n",
    "playerX = 0\n",
    "playerY = 35\n",
    "player = Player(playerX, playerY)\n",
    "move_left = False\n",
    "move_right = False\n",
    "move_up = False\n",
    "move_down = False"
   ]
  },
  {
   "cell_type": "code",
   "execution_count": 30,
   "metadata": {},
   "outputs": [],
   "source": [
    "# initialize elements\n",
    "icecream = Graphics('./images/ice-cream-cart.png')\n",
    "icecreamX = 185\n",
    "icecreamY = 100\n",
    "\n",
    "dog = Graphics('./images/dog.png')\n",
    "dogX = 360\n",
    "dogY = 280\n",
    "\n",
    "danger = Graphics('./images/danger.png')\n",
    "dangerX = 185\n",
    "dangerY = 400\n",
    "danger2 = Graphics('./images/danger.png')"
   ]
  },
  {
   "cell_type": "code",
   "execution_count": 31,
   "metadata": {},
   "outputs": [],
   "source": [
    "#goal\n",
    "size = width, height = 950, 600 # window details\n",
    "goalX = width-316\n",
    "goalY = height-66\n",
    "goal = Graphics('./images/goal.png')"
   ]
  },
  {
   "cell_type": "code",
   "execution_count": 32,
   "metadata": {},
   "outputs": [
    {
     "data": {
      "text/plain": [
       "(7, 0)"
      ]
     },
     "execution_count": 32,
     "metadata": {},
     "output_type": "execute_result"
    }
   ],
   "source": [
    "# initialize game\n",
    "pygame.init()"
   ]
  },
  {
   "cell_type": "code",
   "execution_count": 33,
   "metadata": {},
   "outputs": [
    {
     "data": {
      "application/vnd.jupyter.widget-view+json": {
       "model_id": "ca5690ccdf14462399edc0ffaf7f02f2",
       "version_major": 2,
       "version_minor": 0
      },
      "text/plain": [
       "FloatSlider(value=0.5, description='Rand1:', max=1.0, step=0.01)"
      ]
     },
     "metadata": {},
     "output_type": "display_data"
    },
    {
     "data": {
      "application/vnd.jupyter.widget-view+json": {
       "model_id": "074ef9973e20438e90771861ce85a1d6",
       "version_major": 2,
       "version_minor": 0
      },
      "text/plain": [
       "FloatSlider(value=0.5, description='Rand2:', max=1.0, step=0.01)"
      ]
     },
     "metadata": {},
     "output_type": "display_data"
    }
   ],
   "source": [
    "r1 = widgets.FloatSlider(value=0.5,min=0,max=1.0,step=0.01,\n",
    "    description='Rand1:',disabled=False,continuous_update=True,orientation='horizontal',\n",
    "    readout=True, readout_format='.2f')\n",
    "\n",
    "r2 = widgets.FloatSlider(value=0.5,min=0,max=1.0,step=0.01,\n",
    "    description='Rand2:',disabled=False,continuous_update=True,orientation='horizontal',\n",
    "    readout=True, readout_format='.2f')\n",
    "\n",
    "display(r1)\n",
    "display(r2)"
   ]
  },
  {
   "cell_type": "code",
   "execution_count": null,
   "metadata": {},
   "outputs": [],
   "source": []
  },
  {
   "cell_type": "code",
   "execution_count": null,
   "metadata": {},
   "outputs": [],
   "source": []
  },
  {
   "cell_type": "code",
   "execution_count": null,
   "metadata": {},
   "outputs": [],
   "source": []
  },
  {
   "cell_type": "markdown",
   "metadata": {},
   "source": [
    "## Time to play!\n",
    "Running the following code will launch an interactive game window. \\\n",
    "Use the arrow keys on your keyboard to navigate in the game and make your way to the hospital. Good luck!"
   ]
  },
  {
   "cell_type": "code",
   "execution_count": 34,
   "metadata": {},
   "outputs": [],
   "source": [
    "# initialize window\n",
    "size = width, height = 950, 600\n",
    "screen = pygame.display.set_mode(size)\n",
    "pygame.display.set_caption('Reach the hospital')\n",
    "# bg = pygame.image.load(\"./images/grid-bg.png\")\n",
    "clock = pygame.time.Clock()\n",
    "FPS = 30\n",
    "\n",
    "# Game loop\n",
    "running = True\n",
    "while running:\n",
    "    screen.fill((255, 255, 255))\n",
    "#     screen.blit(bg, (0, 0))\n",
    "    player.draw()\n",
    "    addGameRect(screen, width-250, height)\n",
    "    icecream.draw(icecreamX, icecreamY)\n",
    "    dog.draw(dogX, dogY)\n",
    "    goal.draw(goalX, goalY)\n",
    "    danger.draw(dangerX, dangerY)    \n",
    "    danger2.draw(750, 70) # draw danger icon outside game window\n",
    "    \n",
    "    # DISPLAY TEXT OUTSIDE GAME WINDOW\n",
    "    for i in range(len(probabilities)):\n",
    "        prob = probabilities[i]\n",
    "        prob.write(loc = (750, 170+i*20), color = (0, 250, 0))\n",
    "    \n",
    "    for j in range(len(rrc)):\n",
    "        value = rrc[j]\n",
    "        value.write(loc = (820, 80+j*20), color = (230, 0, 0))\n",
    "    \n",
    "    # MOVE PLAYER\n",
    "    player.move(move_left, move_right, move_up, move_down)\n",
    "\n",
    "\n",
    "    for event in pygame.event.get():\n",
    "        if event.type == pygame.QUIT: # quit button pressed\n",
    "            running = False\n",
    "\n",
    "        # keyboard presses\n",
    "        if event.type == pygame.KEYDOWN:\n",
    "            if event.key == pygame.K_LEFT:\n",
    "                move_left = True\n",
    "            if event.key == pygame.K_RIGHT:\n",
    "                move_right = True\n",
    "            if event.key == pygame.K_UP:\n",
    "                move_up = True\n",
    "            if event.key == pygame.K_DOWN:\n",
    "                move_down = True\n",
    "            if event.key == pygame.K_ESCAPE: # quit game\n",
    "                running = False\n",
    "\n",
    "        if event.type == pygame.KEYUP:\n",
    "            if event.key == pygame.K_LEFT:\n",
    "                move_left = False\n",
    "            if event.key == pygame.K_RIGHT:\n",
    "                move_right = False\n",
    "            if event.key == pygame.K_UP:\n",
    "                move_up = False\n",
    "            if event.key == pygame.K_DOWN:\n",
    "                move_down = False                \n",
    "\n",
    "    # CHECK FOR COLLISIONS\n",
    "    if isCollide(player, goal):\n",
    "        player.collide(goal)\n",
    "        over_font = pygame.font.Font('freesansbold.ttf', 28)\n",
    "        game_over_text = over_font.render('Game over!', True, (0, 0, 0))\n",
    "        screen.blit(game_over_text, (300, 150))\n",
    "\n",
    "    if isCollide(player, dog):\n",
    "        player.collide(dog)\n",
    "        \n",
    "    if isCollide(player, icecream):\n",
    "        player.collide(icecream)\n",
    "        \n",
    "    if isCollide(player, danger):\n",
    "        player.collide(danger)\n",
    "        if player.steal == 0:\n",
    "            R = prob_risk_avoidance * risk\n",
    "            P = prob_profit_seeking * (reward-cost)\n",
    "            net = P-R # USE ABSOLUTE VALUE HERE?\n",
    "            rand = r1.value\n",
    "            print(rand, net)\n",
    "            if rand < net:\n",
    "                print('R: %f\\nP: %f\\nNet: %f\\nrand: %f' % (R, P, net, rand))\n",
    "                string = 'Net: %.2f, rand: %.2f, STEALING' % (net, rand)\n",
    "                player.steal = 1\n",
    "                running = False\n",
    "                \n",
    "            else:\n",
    "                string = 'Skip'\n",
    "        \n",
    "        elif player.steal == 1:\n",
    "            rand2 = r2.value\n",
    "            if rand2 < risk:\n",
    "                prob_risk_avoidance -= learning_rate\n",
    "                string = 'CAUGHT. Risk avoidance: %.2f, rand2: %.2f' % (prob_risk_avoidance, rand2)\n",
    "                running = False\n",
    "#                 print('New risk avoidance: %.2f' % prob_risk_avoidance)\n",
    "            \n",
    "        font = pygame.font.Font('freesansbold.ttf', 24)\n",
    "        text = font.render(string, True, (0, 0, 180))\n",
    "        screen.blit(text, (300, 150))\n",
    "\n",
    "\n",
    "    clock.tick(FPS)\n",
    "    pygame.display.update()"
   ]
  },
  {
   "cell_type": "code",
   "execution_count": null,
   "metadata": {},
   "outputs": [],
   "source": []
  }
 ],
 "metadata": {
  "kernelspec": {
   "display_name": "Python 3",
   "language": "python",
   "name": "python3"
  },
  "language_info": {
   "codemirror_mode": {
    "name": "ipython",
    "version": 3
   },
   "file_extension": ".py",
   "mimetype": "text/x-python",
   "name": "python",
   "nbconvert_exporter": "python",
   "pygments_lexer": "ipython3",
   "version": "3.7.4"
  }
 },
 "nbformat": 4,
 "nbformat_minor": 4
}
